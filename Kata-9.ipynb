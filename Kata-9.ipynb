{
 "cells": [
  {
   "cell_type": "markdown",
   "metadata": {},
   "source": [
    "## Ejercicio: Uso de funciones en Python\n",
    "### Ejercicio 1: Trabajar con argumentos en funciones\n",
    "Los argumentos requeridos en las funciones se utilizan cuando las funciones necesitan que esos argumentos funcionen correctamente. En este ejercicio, construirás un informe de combustible que requiere información de varias ubicaciones de combustible en todo el cohete."
   ]
  },
  {
   "cell_type": "code",
   "execution_count": 38,
   "metadata": {},
   "outputs": [
    {
     "name": "stdout",
     "output_type": "stream",
     "text": [
      " reporte de combustible:\n",
      "    promedio comsbutible: 66.66666666666667%\n",
      "    Tanque principal: 80%\n",
      "    Tanque externo: 50%\n",
      "    Tanque de hidrogeno: 70% \n",
      "    \n"
     ]
    },
    {
     "data": {
      "text/plain": [
       "66.66666666666667"
      ]
     },
     "execution_count": 38,
     "metadata": {},
     "output_type": "execute_result"
    }
   ],
   "source": [
    "# Función para leer 3 tanques de combustible y muestre el promedio\n",
    "def leer_tanques(tanque1, tanque2, tanque3):\n",
    "    promedio_combustible = (tanque1 + tanque2 + tanque3) / 3 \n",
    "    return f\"\"\" reporte de combustible:\n",
    "    promedio comsbutible: {promedio_combustible}%\n",
    "    Tanque principal: {tanque1}%\n",
    "    Tanque externo: {tanque2}%\n",
    "    Tanque de hidrogeno: {tanque3}% \n",
    "    \"\"\"\n",
    "\n",
    "\n",
    "# Llamamos a la función que genera el reporte print(funcion(tanque1, tanque2, tanque3)\n",
    "print(leer_tanques(80, 50 , 70))\n",
    "\n",
    "# Función promedio \n",
    "def promedio(valores):\n",
    "    total = sum(valores)\n",
    "    num_tank = len(valores)\n",
    "    return total / num_tank\n",
    "\n",
    "promedio([80, 50 ,70])\n",
    "\n",
    "\n"
   ]
  },
  {
   "cell_type": "code",
   "execution_count": 40,
   "metadata": {},
   "outputs": [
    {
     "name": "stdout",
     "output_type": "stream",
     "text": [
      " reporte de combustible:\n",
      "    promedio comsbutible: 62.666666666666664%\n",
      "    Tanque principal: 84%\n",
      "    Tanque externo: 14%\n",
      "    Tanque de hidrogeno: 90% \n",
      "    \n"
     ]
    }
   ],
   "source": [
    "def promedio(valores):\n",
    "    total = sum(valores)\n",
    "    num_tank = len(valores)\n",
    "    return total / num_tank\n",
    "\n",
    "# Actualiza la función\n",
    "\n",
    "# Función para leer 3 tanques de combustible y muestre el promedio\n",
    "def leer_tanques(tanque1, tanque2, tanque3): \n",
    "    return f\"\"\" reporte de combustible:\n",
    "    promedio comsbutible: {promedio([tanque1, tanque2, tanque3])}%\n",
    "    Tanque principal: {tanque1}%\n",
    "    Tanque externo: {tanque2}%\n",
    "    Tanque de hidrogeno: {tanque3}% \n",
    "    \"\"\"\n",
    "print(leer_tanques(84, 14 , 90))"
   ]
  },
  {
   "cell_type": "markdown",
   "metadata": {},
   "source": [
    "## Ejercicio 2: Trabajo con argumentos de palabra clave\n",
    "### Ejercicio : Trabajar con argumentos de palabras clave en funciones\n",
    "En este ejercicio, construirás un informe de cohete que requiere varias piezas de información, como el tiempo hasta el destino, el combustible a la izquierda y el nombre del destino. Comienza por crear una función que creará un informe preciso de la misión:"
   ]
  },
  {
   "cell_type": "code",
   "execution_count": 46,
   "metadata": {},
   "outputs": [
    {
     "name": "stdout",
     "output_type": "stream",
     "text": [
      " reporte de mision:\n",
      "    Mision hacia marte\n",
      "    Tiempo total de viaje: 69 minutos\n",
      "    Combustible restante: 40110 galones\n",
      "    \n"
     ]
    }
   ],
   "source": [
    "# Escribe tu nueva función de reporte considerando lo anterior\n",
    "def informe_mision(destino, *tiempo_viaje, **tanques): \n",
    "    return f\"\"\" reporte de mision:\n",
    "    Mision hacia {destino}\n",
    "    Tiempo total de viaje: {sum(tiempo_viaje)} minutos\n",
    "    Combustible restante: {sum(tanques.values())} galones\n",
    "    \"\"\"\n",
    "print(informe_mision(\"marte\", 15, 54, tanqueinterno = 25110, tanque_externo = 15000))"
   ]
  },
  {
   "cell_type": "code",
   "execution_count": 54,
   "metadata": {},
   "outputs": [
    {
     "name": "stdout",
     "output_type": "stream",
     "text": [
      "    reporte de mision:\n",
      "    Mision hacia marte\n",
      "    Tiempo total de viaje: 69 minutos\n",
      "    Combustible restante: 40110 galones\n",
      "    tanque interno : 25110 galones restantes\n",
      "tanque externo : 15000 galones restantes\n",
      "\n"
     ]
    }
   ],
   "source": [
    "# Escribe tu nueva función\n",
    "# Escribe tu nueva función de reporte considerando lo anterior\n",
    "def informe_mision(destino, *tiempo_viaje, **tanques): \n",
    "    reporte_principal = f\"\"\"    reporte de mision:\n",
    "    Mision hacia {destino}\n",
    "    Tiempo total de viaje: {sum(tiempo_viaje)} minutos\n",
    "    Combustible restante: {sum(tanques.values())} galones\n",
    "    \"\"\"\n",
    "    for tank_name, galones in tanques.items():\n",
    "        reporte_principal += f\"tanque {tank_name} : {galones} galones restantes\\n\"\n",
    "    return reporte_principal\n",
    "\n",
    "print(informe_mision(\"marte\", 15, 54, interno = 25110, externo = 15000))"
   ]
  }
 ],
 "metadata": {
  "interpreter": {
   "hash": "041c86ea5458167c36b7dc04a19ee088198617a037bd8858e812d5602af0ef41"
  },
  "kernelspec": {
   "display_name": "Python 3.9.6 64-bit",
   "language": "python",
   "name": "python3"
  },
  "language_info": {
   "codemirror_mode": {
    "name": "ipython",
    "version": 3
   },
   "file_extension": ".py",
   "mimetype": "text/x-python",
   "name": "python",
   "nbconvert_exporter": "python",
   "pygments_lexer": "ipython3",
   "version": "3.9.6"
  },
  "orig_nbformat": 4
 },
 "nbformat": 4,
 "nbformat_minor": 2
}
