{
 "cells": [
  {
   "cell_type": "markdown",
   "metadata": {},
   "source": [
    "## Ejercicio 1: Transformar cadenas"
   ]
  },
  {
   "cell_type": "code",
   "execution_count": 47,
   "metadata": {},
   "outputs": [
    {
     "name": "stdout",
     "output_type": "stream",
     "text": [
      " The Moon is Earth's only satellite\n",
      " There are several interesting facts about the Moon and how it affects life here on Earth\n",
      " This yearly drift is not significant enough to cause immediate effects on Earth\n",
      " The highest daylight temperature of the Moon is 127 Celsius\n"
     ]
    }
   ],
   "source": [
    "text = \"\"\"Interesting facts about the Moon. The Moon is Earth's only satellite. There are several interesting facts about the Moon and how it affects life here on Earth. \n",
    "On average, the Moon moves 4cm away from the Earth every year. This yearly drift is not significant enough to cause immediate effects on Earth. The highest daylight temperature of the Moon is 127 C.\"\"\"\n",
    "\n",
    "texto_divido = text.split(\".\")\n",
    "texto_divido\n",
    "\n",
    "pistas = [\"average\",\"temperature\", \"distance\"]\n",
    "\n",
    "for cadena in texto_divido:\n",
    "    for pistas in pistas:\n",
    "        if pistas in cadena:\n",
    "            print(cadena.replace('C', 'Celsius'))\n",
    "            break\n",
    "\n"
   ]
  },
  {
   "cell_type": "markdown",
   "metadata": {},
   "source": [
    "## Ejercicio 2: Formateando Cadenas"
   ]
  },
  {
   "cell_type": "code",
   "execution_count": 2,
   "metadata": {},
   "outputs": [
    {
     "name": "stdout",
     "output_type": "stream",
     "text": [
      " Datos De Gravedad En La Moon Y Earth \n",
      "--------------------------------------------------------------------------------\n",
      "Nombre del planeta: Earth\n",
      "Gravedad en la Moon: 1.6199999999999999 m/s2\n",
      "\n",
      "\n",
      " Datos De Gravedad En La Moon Y Earth \n",
      "--------------------------------------------------------------------------------\n",
      "Nombre del planeta: Earth\n",
      "Gravedad en la Moon: 1.6199999999999999 m/s2\n",
      "\n",
      "\n",
      "Datos de gravedad de ganimedes\n",
      "--------------------------------------------------------------------------------\n",
      "Nombre del planeta: Marte\n",
      "Gravedad en la ganimedes: 1.4300000000000002 m/s2\n",
      "\n",
      "Datos de gravedad de ganimedes\n",
      "--------------------------------------------------------------------------------\n",
      "Nombre del planeta: Marte\n",
      "Gravedad en la ganimedes: 1.4300000000000002 m/s2\n",
      "\n"
     ]
    }
   ],
   "source": [
    "# Datos con los que vas a trabajar\n",
    "name = \"Moon\"\n",
    "gravity = 0.00162 # in kms\n",
    "planet = \"Earth\"\n",
    "\n",
    "titulo = f\"Datos de gravedad en la {name} y {planet}\"\n",
    "\n",
    "formato = f'''{\"-\"*80}\n",
    "Nombre del planeta: {planet}\n",
    "Gravedad en la {name}: {gravity * 1000} m/s2\n",
    "'''\n",
    "union_plantilla =  f''' {titulo.title()} \n",
    "{formato}\n",
    "'''\n",
    "print(union_plantilla)\n",
    "\n",
    "name = \"ganimedes\"\n",
    "gravity = 0.00143 # in kms\n",
    "planet = \"Marte\"\n",
    "\n",
    "print(union_plantilla)\n",
    "\n",
    "nuevo_formato = f'''Datos de gravedad de {name}\n",
    "{\"-\"*80}\n",
    "Nombre del planeta: {planet}\n",
    "Gravedad en la {name}: {gravity * 1000} m/s2\n",
    "'''\n",
    "print(nuevo_formato.format( planet=planet, name=name, gravity = gravity))\n",
    "print(nuevo_formato.format( planet=planet, name=name, gravity = gravity*1000))"
   ]
  }
 ],
 "metadata": {
  "interpreter": {
   "hash": "041c86ea5458167c36b7dc04a19ee088198617a037bd8858e812d5602af0ef41"
  },
  "kernelspec": {
   "display_name": "Python 3.9.6 64-bit",
   "language": "python",
   "name": "python3"
  },
  "language_info": {
   "codemirror_mode": {
    "name": "ipython",
    "version": 3
   },
   "file_extension": ".py",
   "mimetype": "text/x-python",
   "name": "python",
   "nbconvert_exporter": "python",
   "pygments_lexer": "ipython3",
   "version": "3.9.6"
  },
  "orig_nbformat": 4
 },
 "nbformat": 4,
 "nbformat_minor": 2
}
