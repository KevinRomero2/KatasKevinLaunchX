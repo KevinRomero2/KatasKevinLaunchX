{
 "cells": [
  {
   "cell_type": "markdown",
   "metadata": {},
   "source": [
    "## Ejercicio - Crear un paquete\n",
    "En este ejercicio, aprenderás a utilizar entornos virtuales como una forma para no afectar a los paquetes instalados globalmente u otros programas que se ejecutan en tu máquina.\n",
    "\n",
    "Para este ejercicio es necesario que lo ejecutes desde la terminal, línea de comandos, cmd, consola, cli, etc. de tu computadora, sé que es desafíante, pero no te preocupes ¡¡Sé que puedes lograrlo!!\n",
    "\n",
    "### Crear un entorno virtual\n",
    "\n",
    "Crea un entorno virtual mediante venv\n",
    "\n",
    "Ejecutar en su terminal: python3 -m venv env o bien python -m venv env\n",
    "\n",
    "![paso1](https://i.postimg.cc/RNBbtFQw/paso-1.jpg)\n",
    "\n",
    "python -m venv env Ahora tienes un directorio (folder) env creado en tu terminal.\n",
    "\n",
    "Ejecuta el comando para activar el entorno virtual: source env/bin/activate\n",
    "\n",
    "![paso2](https://i.postimg.cc/3dFfFTnV/paso-2jpg.jpg)\n",
    "\n",
    "Ahora ves en tu terminal (env). Eso significa que has activado tu entorno virtual y se ha aislado del resto de tu máquina.\n",
    "\n",
    "![paso3](https://i.postimg.cc/G437M5f2/paso-3.jpg)\n",
    "\n",
    "\n",
    "### Instalar una biblioteca\n",
    "Ahora que estás dentro de tu entorno virtual, puedes instalar una biblioteca y saber que la biblioteca solo existirá en el entorno virtual.\n",
    "\n",
    "Ejecuta el comando pip freeze para ver las bibliotecas instaladas en tu entorno:\n",
    "\n",
    "pip freeze\n",
    "No deberías obtener respuesta. A continuación, veamos cómo cambia la salida de pip freeze cuando se agrega una biblioteca (un paquete).\n",
    "\n",
    "Ejecuta el comando pip install para instalar una biblioteca:\n",
    "\n",
    "pip install python-dateutil\n",
    "Un gran mensaje de salida de texto dice que está instalando tu biblioteca, y debe terminar con la siguiente oración:\n",
    "\n",
    "Successfully installed python-dateutil-2.8.2 six-1.16.0\n",
    "\n",
    "![paso4](https://i.postimg.cc/Z92w5K5B/paso-4.jpg)\n",
    "\n",
    "Vuelve a ejecutar pip freeze para ver cómo ha cambiado tu lista de bibliotecas:\n",
    "\n",
    "pip freeze\n",
    "Ahora deberías ver la siguiente lista:\n",
    "\n",
    "python-dateutil==2.8.2\n",
    "six==1.16.0\n",
    "\n",
    "![paso5](https://i.postimg.cc/hJfCn7cR/paso-5.jpg)\n",
    "\n",
    "### Desactivar un entorno virtual\n",
    "Hasta ahora, has creado un entorno virtual y le has agregado un paquete. Sin embargo, es posible que estés trabajando en varios proyectos de Python y necesites cambiar entre ellos. Para hacer eso, debes salir (desactivar) tu entorno virtual.\n",
    "\n",
    "Ejecuta el comando deactivate:\n",
    "\n",
    "deactivate\n",
    "Observa cómo cambia el mensaje de tu terminal (env) a cómo se veía antes.\n",
    "\n",
    "![paso6](https://i.postimg.cc/BjhhRCWC/paso-6.jpg)\n",
    "\n",
    "¡Felicidades! Has logrado crear y usar correctamente un entorno virtual.\n"
   ]
  }
 ],
 "metadata": {
  "interpreter": {
   "hash": "041c86ea5458167c36b7dc04a19ee088198617a037bd8858e812d5602af0ef41"
  },
  "kernelspec": {
   "display_name": "Python 3.9.6 64-bit",
   "language": "python",
   "name": "python3"
  },
  "language_info": {
   "name": "python",
   "version": "3.9.6"
  },
  "orig_nbformat": 4
 },
 "nbformat": 4,
 "nbformat_minor": 2
}
