{
 "cells": [
  {
   "cell_type": "markdown",
   "metadata": {},
   "source": [
    " ## Ejercicio - Escribir declaraciones if, else, y elif"
   ]
  },
  {
   "cell_type": "code",
   "execution_count": 15,
   "metadata": {},
   "outputs": [
    {
     "name": "stdout",
     "output_type": "stream",
     "text": [
      "advertencia se acerca un Asteroide a gran velocidad \n"
     ]
    }
   ],
   "source": [
    "# Ejercicio 1\n",
    "vel_asteroide =  49\n",
    "\n",
    "if vel_asteroide > 25:\n",
    "   print(\"advertencia se acerca un Asteroide a gran velocidad \")\n",
    "else:\n",
    "    print(\"no se acerca ningun asteroide\")"
   ]
  },
  {
   "cell_type": "code",
   "execution_count": 21,
   "metadata": {},
   "outputs": [
    {
     "name": "stdout",
     "output_type": "stream",
     "text": [
      "no se puede apreciar nada\n"
     ]
    }
   ],
   "source": [
    "# Ejercicio 2\n",
    "vel_asteroide =  19\n",
    "\n",
    "if vel_asteroide > 20:\n",
    "   print(\"se puede ver un rayo de luz\")\n",
    "elif vel_asteroide == 20:\n",
    "    print(\"se puede ver un rayo de luz\")\n",
    "else:\n",
    "    print(\"no se puede apreciar nada\")"
   ]
  },
  {
   "cell_type": "code",
   "execution_count": 20,
   "metadata": {},
   "outputs": [
    {
     "name": "stdout",
     "output_type": "stream",
     "text": [
      "no se puede apreciar nada, sigue con tu dia\n"
     ]
    }
   ],
   "source": [
    "# Ejercicio 3\n",
    "vel_asteroide =  15\n",
    "tamañ_asteroide = \n",
    "if vel_asteroide > 25 and  tamañ_asteroide > 25 and tamañ_asteroide < 1000:\n",
    "   print(\"Alerta, un asteroide muy peligroso podria llegar pronto estate alerta\")\n",
    "elif vel_asteroide >= 20:\n",
    "    print(\"se puede ver un rayo de luz\")\n",
    "elif tamañ_asteroide < 25:\n",
    "    print(\"no se puede apreciar nada, sigue con tu dia\")\n",
    "else:\n",
    "    print(\"no se puede apreciar nada, sigue con tu dia\")"
   ]
  }
 ],
 "metadata": {
  "interpreter": {
   "hash": "041c86ea5458167c36b7dc04a19ee088198617a037bd8858e812d5602af0ef41"
  },
  "kernelspec": {
   "display_name": "Python 3.9.6 64-bit",
   "language": "python",
   "name": "python3"
  },
  "language_info": {
   "codemirror_mode": {
    "name": "ipython",
    "version": 3
   },
   "file_extension": ".py",
   "mimetype": "text/x-python",
   "name": "python",
   "nbconvert_exporter": "python",
   "pygments_lexer": "ipython3",
   "version": "3.9.6"
  },
  "orig_nbformat": 4
 },
 "nbformat": 4,
 "nbformat_minor": 2
}
